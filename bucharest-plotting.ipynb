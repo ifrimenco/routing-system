{
 "cells": [
  {
   "cell_type": "code",
   "execution_count": 54,
   "id": "8f404743-e183-4d43-b3d2-4f70bf4b3b84",
   "metadata": {
    "tags": []
   },
   "outputs": [],
   "source": [
    "import osmnx as ox\n",
    "import geopy\n",
    "from geopy.geocoders import Nominatim\n",
    "from geopy.distance import geodesic as geopy_distance\n",
    "from geopy.extra.rate_limiter import RateLimiter\n",
    "from ortools.constraint_solver import pywrapcp, routing_enums_pb2\n",
    "import networkx as nx\n",
    "import matplotlib.pyplot as plt"
   ]
  },
  {
   "cell_type": "code",
   "execution_count": 55,
   "id": "d77ced16-3c53-484d-91ea-34f06044b19c",
   "metadata": {},
   "outputs": [
    {
     "data": {
      "text/plain": [
       "[(44.428667183390466, 26.02398683113146),\n",
       " (44.388716342433526, 26.11845793684689),\n",
       " (44.45780567347374, 26.143310728777045),\n",
       " (44.43128209932741, 26.011884727901315)]"
      ]
     },
     "execution_count": 55,
     "metadata": {},
     "output_type": "execute_result"
    }
   ],
   "source": [
    "import random\n",
    "# Define a function to generate random coordinates within a given radius of a central point\n",
    "def generate_random_coordinates(center_lat, center_lon, radius):\n",
    "    # Generate random distance and angle\n",
    "    random_distance = random.random() * radius\n",
    "    random_angle = random.random() * 360\n",
    "    # Calculate random point coordinates using geopy.distance\n",
    "    return geopy_distance(kilometers=random_distance).destination((center_lat, center_lon), bearing=random_angle)\n",
    "\n",
    "\n",
    "# Initialize geolocator with a user-agent\n",
    "geolocator = Nominatim(user_agent=\"routing-system-big-data\")\n",
    "\n",
    "# List of areas to geocode\n",
    "areas = [\"Drumul Taberei, Bucharest\", \"Berceni, Bucharest\", \"Colentina, Bucharest\", \"Militari, Bucharest\"]\n",
    "radius = 2  # Radius in kilometers within which to generate house locations\n",
    "num_locations_per_area = 1  # Number of locations to generate per area\n",
    "\n",
    "# Get central coordinates of the areas\n",
    "central_coordinates = {area: geolocator.geocode(area) for area in areas}\n",
    "# Generate house locations\n",
    "house_locations = []\n",
    "for area, location in central_coordinates.items():\n",
    "    if location:\n",
    "        for _ in range(num_locations_per_area):\n",
    "            random_coords = generate_random_coordinates(location.latitude, location.longitude, radius)\n",
    "            house_locations.append((random_coords[0], random_coords[1]))\n",
    "\n",
    "# house_locations now contains the generated coordinates for the house locations\n",
    "house_locations"
   ]
  },
  {
   "cell_type": "code",
   "execution_count": 56,
   "id": "fa64f905",
   "metadata": {},
   "outputs": [],
   "source": [
    "# Constants for the routing problem\n",
    "CENTER_LOCATION = (44.413162, 26.163739)  # Replace with actual depot coordinates\n",
    "DIST = 3000  # Adjust as needed\n",
    "NUM_VEHICLES = 2  # Adjust as needed\n",
    "\n",
    "# Get the road network graph\n",
    "G = ox.graph_from_point(CENTER_LOCATION, dist=DIST, network_type='drive')\n",
    "G = ox.utils_graph.get_largest_component(G, strongly=True)\n",
    "\n",
    "# Function to calculate distance matrix using networkx\n",
    "def calculate_distance_matrix(locations, G):\n",
    "    distance_matrix = []\n",
    "    for loc1 in locations:\n",
    "        row = []\n",
    "        for loc2 in locations:\n",
    "            node1 = ox.nearest_nodes(G, loc1[1], loc1[0])\n",
    "            node2 = ox.nearest_nodes(G, loc2[1], loc2[0])\n",
    "            length = round(nx.shortest_path_length(G, node1, node2, weight='length'))\n",
    "            row.append(length)\n",
    "        distance_matrix.append(row)\n",
    "    return distance_matrix\n",
    "\n",
    "\n",
    "# Add depot to the list of locations and calculate the distance matrix\n",
    "all_locations = [CENTER_LOCATION] + house_locations\n",
    "distance_matrix = calculate_distance_matrix(all_locations, G)\n"
   ]
  },
  {
   "cell_type": "code",
   "execution_count": 57,
   "id": "c0636970",
   "metadata": {},
   "outputs": [
    {
     "data": {
      "text/plain": [
       "[[0, 4319, 3886, 4843, 3974],\n",
       " [4144, 0, 5768, 2771, 885],\n",
       " [3906, 6044, 0, 6568, 5700],\n",
       " [4992, 2811, 6617, 0, 2226],\n",
       " [4059, 755, 5684, 2261, 0]]"
      ]
     },
     "execution_count": 57,
     "metadata": {},
     "output_type": "execute_result"
    }
   ],
   "source": [
    "distance_matrix"
   ]
  },
  {
   "cell_type": "code",
   "execution_count": 59,
   "id": "d4b5d4e1-c1d6-4874-95dd-3d5f7c37bb00",
   "metadata": {},
   "outputs": [
    {
     "name": "stdout",
     "output_type": "stream",
     "text": [
      "Routes:\n",
      "Route for vehicle 1:\n",
      " 0 -> 2 -> 0\n",
      "Distance of the route: 7792m\n",
      "\n",
      "Route for vehicle 2:\n",
      " 0 -> 3 -> 4 -> 1 -> 0\n",
      "Distance of the route: 11968m\n",
      "\n",
      "Total Distance of all routes: 19760m\n"
     ]
    }
   ],
   "source": [
    "# Create and configure the routing model\n",
    "def create_model(distance_matrix, num_vehicles):\n",
    "\n",
    "    manager = pywrapcp.RoutingIndexManager(len(distance_matrix), num_vehicles, 0)\n",
    "    routing = pywrapcp.RoutingModel(manager)\n",
    "\n",
    "    def distance_callback(from_index, to_index):\n",
    "\n",
    "        from_node = manager.IndexToNode(from_index)\n",
    "        to_node = manager.IndexToNode(to_index)\n",
    "        return distance_matrix[from_node][to_node]\n",
    "\n",
    "\n",
    "    transit_callback_index = routing.RegisterTransitCallback(distance_callback) \n",
    "\n",
    "    routing.SetArcCostEvaluatorOfAllVehicles(transit_callback_index)\n",
    "\n",
    "    # Add Distance constraint.\n",
    "    dimension_name = 'Distance'\n",
    "    routing.AddDimension(transit_callback_index,\n",
    "                          0,\n",
    "                          30000, # max distance per vehicle\n",
    "                          True,\n",
    "                          dimension_name)\n",
    "    distance_dimension = routing.GetDimensionOrDie(dimension_name)\n",
    "    distance_dimension.SetGlobalSpanCostCoefficient(100)\n",
    "\n",
    "    return routing, manager\n",
    "\n",
    "# Solve the routing problem\n",
    "def solve_routing_problem(routing, manager):\n",
    "    # Setting first solution heuristic.\n",
    "    search_parameters = pywrapcp.DefaultRoutingSearchParameters()\n",
    "    search_parameters.first_solution_strategy = (\n",
    "        routing_enums_pb2.FirstSolutionStrategy.PATH_CHEAPEST_ARC\n",
    "    )\n",
    "    solution = routing.SolveWithParameters(search_parameters)\n",
    "\n",
    "    if solution:\n",
    "        print_solution(solution, routing, manager)\n",
    "    else:\n",
    "        print(\"No solution found!\")\n",
    "\n",
    "# Print the solution\n",
    "def print_solution(solution, routing, manager):\n",
    "    print(\"Routes:\")\n",
    "    total_distance = 0\n",
    "    for vehicle_id in range(manager.GetNumberOfVehicles()):\n",
    "        index = routing.Start(vehicle_id)\n",
    "        plan_output = 'Route for vehicle {}:\\n'.format(vehicle_id+1)\n",
    "        route_distance = 0\n",
    "        while not routing.IsEnd(index):\n",
    "            plan_output += ' {} ->'.format(manager.IndexToNode(index))\n",
    "            previous_index = index\n",
    "            index = solution.Value(routing.NextVar(index))\n",
    "            route_distance += routing.GetArcCostForVehicle(previous_index, index, vehicle_id)\n",
    "        plan_output += ' {}\\n'.format(manager.IndexToNode(index))\n",
    "        plan_output += 'Distance of the route: {}m\\n'.format(route_distance)\n",
    "        print(plan_output)\n",
    "        total_distance += route_distance\n",
    "    print('Total Distance of all routes: {}m'.format(total_distance))\n",
    "\n",
    "# Now use these functions with your data\n",
    "\n",
    "routing, manager = create_model(distance_matrix, NUM_VEHICLES)\n",
    "solve_routing_problem(routing, manager)"
   ]
  },
  {
   "cell_type": "code",
   "execution_count": null,
   "id": "8e5f3133-b0f4-423e-8fd5-ac81894b194a",
   "metadata": {},
   "outputs": [],
   "source": []
  },
  {
   "cell_type": "code",
   "execution_count": null,
   "id": "f50277ff-48d3-40ea-a321-21c72e2f52fa",
   "metadata": {},
   "outputs": [],
   "source": []
  },
  {
   "cell_type": "code",
   "execution_count": null,
   "id": "9268c44d-81c2-4fbb-a1cd-5195f3d40c0d",
   "metadata": {},
   "outputs": [],
   "source": []
  },
  {
   "cell_type": "code",
   "execution_count": null,
   "id": "45a37eb5-ca08-4751-b73e-1322195558d4",
   "metadata": {
    "tags": []
   },
   "outputs": [],
   "source": []
  },
  {
   "cell_type": "code",
   "execution_count": null,
   "id": "3af46bc1-1405-488b-8ba7-63d5e0c034f8",
   "metadata": {
    "tags": []
   },
   "outputs": [],
   "source": []
  },
  {
   "cell_type": "code",
   "execution_count": null,
   "id": "13338ea2-6812-49a1-8fce-33f74b96c393",
   "metadata": {
    "tags": []
   },
   "outputs": [],
   "source": []
  },
  {
   "cell_type": "code",
   "execution_count": null,
   "id": "b949435a-e594-47b6-bf3d-2fc0da18c2ac",
   "metadata": {
    "tags": []
   },
   "outputs": [],
   "source": []
  },
  {
   "cell_type": "code",
   "execution_count": null,
   "id": "6304ef81-2288-4806-9cc0-0d89612c663e",
   "metadata": {
    "tags": []
   },
   "outputs": [],
   "source": []
  }
 ],
 "metadata": {
  "kernelspec": {
   "display_name": "Python 3 (ipykernel)",
   "language": "python",
   "name": "python3"
  },
  "language_info": {
   "codemirror_mode": {
    "name": "ipython",
    "version": 3
   },
   "file_extension": ".py",
   "mimetype": "text/x-python",
   "name": "python",
   "nbconvert_exporter": "python",
   "pygments_lexer": "ipython3",
   "version": "3.12.0"
  }
 },
 "nbformat": 4,
 "nbformat_minor": 5
}
