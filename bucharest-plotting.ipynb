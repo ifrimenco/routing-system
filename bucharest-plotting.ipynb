{
 "cells": [
  {
   "cell_type": "code",
   "execution_count": 2,
   "id": "8f404743-e183-4d43-b3d2-4f70bf4b3b84",
   "metadata": {
    "tags": []
   },
   "outputs": [],
   "source": [
    "import osmnx as ox\n",
    "import geopy\n",
    "from geopy.geocoders import Nominatim\n",
    "from geopy.distance import geodesic as geopy_distance\n",
    "from geopy.extra.rate_limiter import RateLimiter\n",
    "from ortools.constraint_solver import pywrapcp, routing_enums_pb2\n",
    "import networkx as nx\n",
    "import pandas as pd"
   ]
  },
  {
   "cell_type": "code",
   "execution_count": 5,
   "id": "d77ced16-3c53-484d-91ea-34f06044b19c",
   "metadata": {},
   "outputs": [
    {
     "data": {
      "text/plain": [
       "[(44.41932904790832, 26.03476969022729),\n",
       " (44.41464689892644, 26.03323756232944),\n",
       " (44.4193943341598, 26.04392705010982),\n",
       " (44.420534763967375, 26.031273487266095),\n",
       " (44.429325656335386, 26.045533703442068),\n",
       " (44.38613648789535, 26.118820092723496),\n",
       " (44.40285047392738, 26.131905219466294),\n",
       " (44.38926548353081, 26.117532600796366),\n",
       " (44.40352043898799, 26.12600025506753),\n",
       " (44.39120689152916, 26.125606652642322),\n",
       " (44.458873012748704, 26.137478619981657),\n",
       " (44.4667288690767, 26.16034142297531),\n",
       " (44.47209238163696, 26.161042894853015),\n",
       " (44.46625071310259, 26.15390940038925),\n",
       " (44.45434470478381, 26.152566860081894),\n",
       " (44.436561732930834, 26.010166651746385),\n",
       " (44.43019214992797, 26.008694476264942),\n",
       " (44.42487293373873, 26.016105059608368),\n",
       " (44.434086035331845, 26.03566625620713),\n",
       " (44.43426603391605, 26.015105496137785)]"
      ]
     },
     "execution_count": 5,
     "metadata": {},
     "output_type": "execute_result"
    }
   ],
   "source": [
    "import random\n",
    "# Define a function to generate random coordinates within a given radius of a central point\n",
    "def generate_random_coordinates(center_lat, center_lon, radius):\n",
    "    # Generate random distance and angle\n",
    "    random_distance = random.random() * radius\n",
    "    random_angle = random.random() * 360\n",
    "    # Calculate random point coordinates using geopy.distance\n",
    "    return geopy_distance(kilometers=random_distance).destination((center_lat, center_lon), bearing=random_angle)\n",
    "\n",
    "\n",
    "# Initialize geolocator with a user-agent\n",
    "geolocator = Nominatim(user_agent=\"routing-system-big-data\")\n",
    "\n",
    "# List of areas to geocode\n",
    "areas = [\"Drumul Taberei, Bucharest\", \"Berceni, Bucharest\", \"Colentina, Bucharest\", \"Militari, Bucharest\"]\n",
    "radius = 2  # Radius in kilometers within which to generate house locations\n",
    "num_locations_per_area = 5  # Number of locations to generate per area\n",
    "\n",
    "# Get central coordinates of the areas\n",
    "central_coordinates = {area: geolocator.geocode(area) for area in areas}\n",
    "# Generate house locations\n",
    "house_locations = []\n",
    "for area, location in central_coordinates.items():\n",
    "    if location:\n",
    "        for _ in range(num_locations_per_area):\n",
    "            random_coords = generate_random_coordinates(location.latitude, location.longitude, radius)\n",
    "            house_locations.append((random_coords[0], random_coords[1]))\n",
    "\n",
    "# house_locations now contains the generated coordinates for the house locations\n",
    "house_locations"
   ]
  },
  {
   "cell_type": "code",
   "execution_count": 6,
   "id": "d4b5d4e1-c1d6-4874-95dd-3d5f7c37bb00",
   "metadata": {},
   "outputs": [],
   "source": [
    "# Constants for the routing problem\n",
    "CENTER_LOCATION = (44.413162, 26.163739)  # Replace with actual depot coordinates\n",
    "DIST = 3000  # Adjust as needed\n",
    "NUM_VEHICLES = 4  # Adjust as needed\n",
    "\n",
    "# Get the road network graph\n",
    "G = ox.graph_from_point(CENTER_LOCATION, dist=DIST, network_type='drive')\n",
    "G = ox.utils_graph.get_largest_component(G, strongly=True)\n",
    "\n",
    "# Function to calculate distance matrix using networkx\n",
    "def calculate_distance_matrix(locations, G):\n",
    "    distance_matrix = []\n",
    "    for loc1 in locations:\n",
    "        row = []\n",
    "        for loc2 in locations:\n",
    "            node1 = ox.nearest_nodes(G, loc1[1], loc1[0])\n",
    "            node2 = ox.nearest_nodes(G, loc2[1], loc2[0])\n",
    "            length = nx.shortest_path_length(G, node1, node2, weight='length')\n",
    "            row.append(length)\n",
    "        distance_matrix.append(row)\n",
    "    return distance_matrix\n",
    "\n",
    "# Add depot to the list of locations and calculate the distance matrix\n",
    "all_locations = house_locations + [CENTER_LOCATION]\n",
    "distance_matrix = calculate_distance_matrix(all_locations, G)\n",
    "\n",
    "# Create and configure the routing model\n",
    "manager = pywrapcp.RoutingIndexManager(len(distance_matrix), NUM_VEHICLES, 0)\n",
    "routing = pywrapcp.RoutingModel(manager)\n",
    "\n",
    "# Register the transit callback function\n",
    "transit_callback_index = routing.RegisterTransitCallback(lambda from_index, to_index: distance_matrix[manager.IndexToNode(from_index)][manager.IndexToNode(to_index)])\n",
    "routing.SetArcCostEvaluatorOfAllVehicles(transit_callback_index)\n",
    "\n",
    "# Add Distance constraint\n",
    "dimension_name = 'Distance'\n",
    "routing.AddDimension(transit_callback_index, 0, 30000, True, dimension_name)\n",
    "distance_dimension = routing.GetDimensionOrDie(dimension_name)\n",
    "distance_dimension.SetGlobalSpanCostCoefficient(100)\n"
   ]
  },
  {
   "cell_type": "code",
   "execution_count": 9,
   "id": "f50277ff-48d3-40ea-a321-21c72e2f52fa",
   "metadata": {},
   "outputs": [],
   "source": [
    "\n",
    "# Set the starting and ending nodes for all vehicles at the depot\n",
    "depot_index = manager.NodeToIndex(0)  # Depot is the first location\n",
    "# Start and end points for each vehicle\n",
    "for vehicle_id in range(NUM_VEHICLES):\n",
    "    start_index = routing.Start(vehicle_id)\n",
    "    end_index = routing.End(vehicle_id)\n",
    "    routing.AddDisjunction([start_index], 0)\n",
    "    routing.AddDisjunction([end_index], 0)\n",
    "# Solve the routing problem\n",
    "search_parameters = pywrapcp.DefaultRoutingSearchParameters()"
   ]
  },
  {
   "cell_type": "code",
   "execution_count": null,
   "id": "9268c44d-81c2-4fbb-a1cd-5195f3d40c0d",
   "metadata": {},
   "outputs": [],
   "source": [
    "solution = routing.SolveWithParameters(search_parameters)"
   ]
  },
  {
   "cell_type": "code",
   "execution_count": null,
   "id": "45a37eb5-ca08-4751-b73e-1322195558d4",
   "metadata": {
    "tags": []
   },
   "outputs": [],
   "source": [
    "\n",
    "# Output the solution\n",
    "if solution:\n",
    "    print(\"Routes:\")\n",
    "    total_distance = 0\n",
    "    for vehicle_id in range(NUM_VEHICLES):\n",
    "        index = routing.Start(vehicle_id)\n",
    "        plan_output = 'Route for vehicle {}:\\n'.format(vehicle_id)\n",
    "        route_distance = 0\n",
    "        while not routing.IsEnd(index):\n",
    "            plan_output += ' {} ->'.format(manager.IndexToNode(index))\n",
    "            previous_index = index\n",
    "            index = solution.Value(routing.NextVar(index))\n",
    "            route_distance += routing.GetArcCostForVehicle(previous_index, index, vehicle_id)\n",
    "        plan_output += ' {}\\n'.format(manager.IndexToNode(index))\n",
    "        plan_output += 'Distance of the route: {}m\\n'.format(route_distance)\n",
    "        print(plan_output)\n",
    "        total_distance += route_distance\n",
    "    print('Total Distance of all routes: {}m'.format(total_distance))\n",
    "else:\n",
    "    print(\"No solution found!\")"
   ]
  },
  {
   "cell_type": "code",
   "execution_count": null,
   "id": "3af46bc1-1405-488b-8ba7-63d5e0c034f8",
   "metadata": {
    "tags": []
   },
   "outputs": [],
   "source": []
  },
  {
   "cell_type": "code",
   "execution_count": null,
   "id": "13338ea2-6812-49a1-8fce-33f74b96c393",
   "metadata": {
    "tags": []
   },
   "outputs": [],
   "source": []
  },
  {
   "cell_type": "code",
   "execution_count": null,
   "id": "b949435a-e594-47b6-bf3d-2fc0da18c2ac",
   "metadata": {
    "tags": []
   },
   "outputs": [],
   "source": []
  },
  {
   "cell_type": "code",
   "execution_count": null,
   "id": "6304ef81-2288-4806-9cc0-0d89612c663e",
   "metadata": {
    "tags": []
   },
   "outputs": [],
   "source": []
  }
 ],
 "metadata": {
  "kernelspec": {
   "display_name": "Python 3 (ipykernel)",
   "language": "python",
   "name": "python3"
  },
  "language_info": {
   "codemirror_mode": {
    "name": "ipython",
    "version": 3
   },
   "file_extension": ".py",
   "mimetype": "text/x-python",
   "name": "python",
   "nbconvert_exporter": "python",
   "pygments_lexer": "ipython3",
   "version": "3.12.0"
  }
 },
 "nbformat": 4,
 "nbformat_minor": 5
}
